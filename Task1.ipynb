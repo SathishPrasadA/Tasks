{
 "cells": [
  {
   "cell_type": "code",
   "execution_count": 12,
   "metadata": {},
   "outputs": [
    {
     "name": "stdout",
     "output_type": "stream",
     "text": [
      "[1, 2, 3, 4, 5, 6, 7, 8, 9, 10, 11, 648, 649, 650, 651, 652, 653, 3]\n"
     ]
    }
   ],
   "source": [
    "c = {\"orders\":[{\"id\":1},{\"id\":2},{\"id\":3},{\"id\":4},{\"id\":5},{\"id\":6},{\"id\":7},{\"id\":8},{\"id\":9},{\"id\":10},{\"id\":11},{\"id\":648},{\"id\":649},{\"id\":650},{\"id\":651},{\"id\":652},{\"id\":653}],\"errors\":[{\"code\":3,\"message\":\"[PHP Warning #2] count(): Parameter must be an array or an object that implements Countable (153)\"}]}\n",
    "\n",
    "m = []\n",
    "for i in c.values(): #The values() method returns a view object that displays a list of all the values in the dictionary.\n",
    "    for j in i:\n",
    "        for k in j.values():\n",
    "            if type(k) == int: #type is to know the data type\n",
    "                m.append(k)\n",
    "\n",
    "print(m)"
   ]
  },
  {
   "cell_type": "raw",
   "metadata": {},
   "source": [
    "->The code iterates over the list of orders and creates a new list, m, which is an empty list.\n",
    "->The code then iterates over each value in the c array and creates a new tuple with two elements: one for the order number and one for its corresponding values.\n",
    "->The code then iterates over each element in i (the original list) to create a new tuple with three elements: one for the order number, one for its corresponding values, and another element that will be used as an index into j's values.\n",
    "->The code will print the following list: [1, 2, 3, 4, 5, 6, 7, 8, 9, 10, 11, 648, 649, 650, 651, 652, 653, 3]"
   ]
  },
  {
   "cell_type": "code",
   "execution_count": null,
   "metadata": {},
   "outputs": [],
   "source": []
  }
 ],
 "metadata": {
  "kernelspec": {
   "display_name": "Python 3",
   "language": "python",
   "name": "python3"
  },
  "language_info": {
   "codemirror_mode": {
    "name": "ipython",
    "version": 3
   },
   "file_extension": ".py",
   "mimetype": "text/x-python",
   "name": "python",
   "nbconvert_exporter": "python",
   "pygments_lexer": "ipython3",
   "version": "3.8.5"
  }
 },
 "nbformat": 4,
 "nbformat_minor": 4
}
